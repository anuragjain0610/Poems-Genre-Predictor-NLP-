{
 "cells": [
  {
   "cell_type": "markdown",
   "metadata": {},
   "source": [
    "\n",
    "# Poems Classifier\n",
    "Data Source: https://www.kaggle.com/ultrajack/modern-renaissance-poetry\n",
    "\n",
    "### The dataset consists of following data:\n",
    "\n",
    "#Total no. of datapoints: 573\n",
    "#Number of Attributes/Columns in data: 5\n",
    "#Number of Authors: 67\n",
    "#Number of different poems: 506\n",
    "#Number of different poem names: 509\n",
    "#Types(genres): 3\n",
    "\n",
    "\n",
    "### Attribute Information:\n",
    "\n",
    "#author\n",
    "#content: Poems\n",
    "#poem Name\n",
    "#age: Modern and Renaissance\n",
    "#type: Genre(Mythology & Folklore,Nature and Love)\n",
    "\n",
    "Loading the data\n",
    "The dataset is available in .csv file.\n",
    "\n"
   ]
  },
  {
   "cell_type": "code",
   "execution_count": 219,
   "metadata": {},
   "outputs": [],
   "source": [
    "import pandas as pd\n",
    "import numpy as np\n",
    "import matplotlib.pyplot as plt\n",
    "%matplotlib inline\n",
    "import seaborn as sns "
   ]
  },
  {
   "cell_type": "code",
   "execution_count": 220,
   "metadata": {},
   "outputs": [],
   "source": [
    "df=pd.read_csv('poems.csv')"
   ]
  },
  {
   "cell_type": "code",
   "execution_count": 221,
   "metadata": {},
   "outputs": [
    {
     "data": {
      "text/plain": [
       "(573, 5)"
      ]
     },
     "execution_count": 221,
     "metadata": {},
     "output_type": "execute_result"
    }
   ],
   "source": [
    "df.shape"
   ]
  },
  {
   "cell_type": "code",
   "execution_count": 223,
   "metadata": {},
   "outputs": [],
   "source": [
    "df.rename(columns={'poem name': 'poem_name'}, inplace=True)"
   ]
  },
  {
   "cell_type": "code",
   "execution_count": 224,
   "metadata": {},
   "outputs": [
    {
     "name": "stdout",
     "output_type": "stream",
     "text": [
      "(67,) (506,) (509,)\n"
     ]
    }
   ],
   "source": [
    "print(df.author.unique().shape,\n",
    "df.content.unique().shape,\n",
    "df.poem_name.unique().shape)"
   ]
  },
  {
   "cell_type": "code",
   "execution_count": 132,
   "metadata": {},
   "outputs": [
    {
     "data": {
      "text/html": [
       "<div>\n",
       "<style scoped>\n",
       "    .dataframe tbody tr th:only-of-type {\n",
       "        vertical-align: middle;\n",
       "    }\n",
       "\n",
       "    .dataframe tbody tr th {\n",
       "        vertical-align: top;\n",
       "    }\n",
       "\n",
       "    .dataframe thead th {\n",
       "        text-align: right;\n",
       "    }\n",
       "</style>\n",
       "<table border=\"1\" class=\"dataframe\">\n",
       "  <thead>\n",
       "    <tr style=\"text-align: right;\">\n",
       "      <th></th>\n",
       "      <th>author</th>\n",
       "      <th>content</th>\n",
       "      <th>poem name</th>\n",
       "      <th>age</th>\n",
       "      <th>type</th>\n",
       "    </tr>\n",
       "  </thead>\n",
       "  <tbody>\n",
       "    <tr>\n",
       "      <th>0</th>\n",
       "      <td>WILLIAM SHAKESPEARE</td>\n",
       "      <td>Let the bird of loudest lay\\r\\nOn the sole Ara...</td>\n",
       "      <td>The Phoenix and the Turtle</td>\n",
       "      <td>Renaissance</td>\n",
       "      <td>Mythology &amp; Folklore</td>\n",
       "    </tr>\n",
       "    <tr>\n",
       "      <th>1</th>\n",
       "      <td>DUCHESS OF NEWCASTLE MARGARET CAVENDISH</td>\n",
       "      <td>Sir Charles into my chamber coming in,\\r\\nWhen...</td>\n",
       "      <td>An Epilogue to the Above</td>\n",
       "      <td>Renaissance</td>\n",
       "      <td>Mythology &amp; Folklore</td>\n",
       "    </tr>\n",
       "    <tr>\n",
       "      <th>2</th>\n",
       "      <td>THOMAS BASTARD</td>\n",
       "      <td>Our vice runs beyond all that old men saw,\\r\\n...</td>\n",
       "      <td>Book 7, Epigram 42</td>\n",
       "      <td>Renaissance</td>\n",
       "      <td>Mythology &amp; Folklore</td>\n",
       "    </tr>\n",
       "    <tr>\n",
       "      <th>3</th>\n",
       "      <td>EDMUND SPENSER</td>\n",
       "      <td>Lo I the man, whose Muse whilome did maske,\\r\\...</td>\n",
       "      <td>from The Faerie Queene: Book I, Canto I</td>\n",
       "      <td>Renaissance</td>\n",
       "      <td>Mythology &amp; Folklore</td>\n",
       "    </tr>\n",
       "    <tr>\n",
       "      <th>4</th>\n",
       "      <td>RICHARD BARNFIELD</td>\n",
       "      <td>Long have I longd to see my love againe,\\r\\nSt...</td>\n",
       "      <td>Sonnet 16</td>\n",
       "      <td>Renaissance</td>\n",
       "      <td>Mythology &amp; Folklore</td>\n",
       "    </tr>\n",
       "  </tbody>\n",
       "</table>\n",
       "</div>"
      ],
      "text/plain": [
       "                                    author  \\\n",
       "0                      WILLIAM SHAKESPEARE   \n",
       "1  DUCHESS OF NEWCASTLE MARGARET CAVENDISH   \n",
       "2                           THOMAS BASTARD   \n",
       "3                           EDMUND SPENSER   \n",
       "4                        RICHARD BARNFIELD   \n",
       "\n",
       "                                             content  \\\n",
       "0  Let the bird of loudest lay\\r\\nOn the sole Ara...   \n",
       "1  Sir Charles into my chamber coming in,\\r\\nWhen...   \n",
       "2  Our vice runs beyond all that old men saw,\\r\\n...   \n",
       "3  Lo I the man, whose Muse whilome did maske,\\r\\...   \n",
       "4  Long have I longd to see my love againe,\\r\\nSt...   \n",
       "\n",
       "                                 poem name          age                  type  \n",
       "0               The Phoenix and the Turtle  Renaissance  Mythology & Folklore  \n",
       "1                 An Epilogue to the Above  Renaissance  Mythology & Folklore  \n",
       "2                       Book 7, Epigram 42  Renaissance  Mythology & Folklore  \n",
       "3  from The Faerie Queene: Book I, Canto I  Renaissance  Mythology & Folklore  \n",
       "4                                Sonnet 16  Renaissance  Mythology & Folklore  "
      ]
     },
     "execution_count": 132,
     "metadata": {},
     "output_type": "execute_result"
    }
   ],
   "source": [
    "df.head(5)"
   ]
  },
  {
   "cell_type": "markdown",
   "metadata": {},
   "source": [
    "# Preprocessing"
   ]
  },
  {
   "cell_type": "code",
   "execution_count": 133,
   "metadata": {},
   "outputs": [],
   "source": [
    "df=df[df.content.str.contains(\"Copyright\")==False]      #to avoid any copyright issues"
   ]
  },
  {
   "cell_type": "code",
   "execution_count": 135,
   "metadata": {},
   "outputs": [
    {
     "data": {
      "text/plain": [
       "(447,)"
      ]
     },
     "execution_count": 135,
     "metadata": {},
     "output_type": "execute_result"
    }
   ],
   "source": [
    "df.poem_name.unique().shape"
   ]
  },
  {
   "cell_type": "code",
   "execution_count": 136,
   "metadata": {},
   "outputs": [
    {
     "data": {
      "text/plain": [
       "(443,)"
      ]
     },
     "execution_count": 136,
     "metadata": {},
     "output_type": "execute_result"
    }
   ],
   "source": [
    "df.content.unique().shape"
   ]
  },
  {
   "cell_type": "code",
   "execution_count": 137,
   "metadata": {},
   "outputs": [
    {
     "data": {
      "text/html": [
       "<div>\n",
       "<style scoped>\n",
       "    .dataframe tbody tr th:only-of-type {\n",
       "        vertical-align: middle;\n",
       "    }\n",
       "\n",
       "    .dataframe tbody tr th {\n",
       "        vertical-align: top;\n",
       "    }\n",
       "\n",
       "    .dataframe thead th {\n",
       "        text-align: right;\n",
       "    }\n",
       "</style>\n",
       "<table border=\"1\" class=\"dataframe\">\n",
       "  <thead>\n",
       "    <tr style=\"text-align: right;\">\n",
       "      <th></th>\n",
       "      <th>author</th>\n",
       "      <th>content</th>\n",
       "      <th>poem_name</th>\n",
       "      <th>age</th>\n",
       "      <th>type</th>\n",
       "    </tr>\n",
       "  </thead>\n",
       "  <tbody>\n",
       "    <tr>\n",
       "      <th>0</th>\n",
       "      <td>WILLIAM SHAKESPEARE</td>\n",
       "      <td>Let the bird of loudest lay\\r\\nOn the sole Ara...</td>\n",
       "      <td>The Phoenix and the Turtle</td>\n",
       "      <td>Renaissance</td>\n",
       "      <td>Mythology &amp; Folklore</td>\n",
       "    </tr>\n",
       "    <tr>\n",
       "      <th>1</th>\n",
       "      <td>DUCHESS OF NEWCASTLE MARGARET CAVENDISH</td>\n",
       "      <td>Sir Charles into my chamber coming in,\\r\\nWhen...</td>\n",
       "      <td>An Epilogue to the Above</td>\n",
       "      <td>Renaissance</td>\n",
       "      <td>Mythology &amp; Folklore</td>\n",
       "    </tr>\n",
       "    <tr>\n",
       "      <th>2</th>\n",
       "      <td>THOMAS BASTARD</td>\n",
       "      <td>Our vice runs beyond all that old men saw,\\r\\n...</td>\n",
       "      <td>Book 7, Epigram 42</td>\n",
       "      <td>Renaissance</td>\n",
       "      <td>Mythology &amp; Folklore</td>\n",
       "    </tr>\n",
       "    <tr>\n",
       "      <th>3</th>\n",
       "      <td>EDMUND SPENSER</td>\n",
       "      <td>Lo I the man, whose Muse whilome did maske,\\r\\...</td>\n",
       "      <td>from The Faerie Queene: Book I, Canto I</td>\n",
       "      <td>Renaissance</td>\n",
       "      <td>Mythology &amp; Folklore</td>\n",
       "    </tr>\n",
       "    <tr>\n",
       "      <th>4</th>\n",
       "      <td>RICHARD BARNFIELD</td>\n",
       "      <td>Long have I longd to see my love againe,\\r\\nSt...</td>\n",
       "      <td>Sonnet 16</td>\n",
       "      <td>Renaissance</td>\n",
       "      <td>Mythology &amp; Folklore</td>\n",
       "    </tr>\n",
       "    <tr>\n",
       "      <th>5</th>\n",
       "      <td>RICHARD BARNFIELD</td>\n",
       "      <td>Cherry-lipt Adonis in his snowie shape,\\r\\n   ...</td>\n",
       "      <td>Sonnet 17</td>\n",
       "      <td>Renaissance</td>\n",
       "      <td>Mythology &amp; Folklore</td>\n",
       "    </tr>\n",
       "    <tr>\n",
       "      <th>6</th>\n",
       "      <td>SIR WALTER RALEGH</td>\n",
       "      <td>Praisd be Dianas fair and harmless light;\\r\\nP...</td>\n",
       "      <td>Praisd be Dianas Fair and Harmless Light</td>\n",
       "      <td>Renaissance</td>\n",
       "      <td>Mythology &amp; Folklore</td>\n",
       "    </tr>\n",
       "    <tr>\n",
       "      <th>7</th>\n",
       "      <td>QUEEN ELIZABETH I</td>\n",
       "      <td>When I was fair and young, then favor graced m...</td>\n",
       "      <td>When I Was Fair and Young</td>\n",
       "      <td>Renaissance</td>\n",
       "      <td>Mythology &amp; Folklore</td>\n",
       "    </tr>\n",
       "    <tr>\n",
       "      <th>8</th>\n",
       "      <td>JOHN DONNE</td>\n",
       "      <td>When by thy scorn, O murd'ress, I am dead\\r\\n ...</td>\n",
       "      <td>The Apparition</td>\n",
       "      <td>Renaissance</td>\n",
       "      <td>Mythology &amp; Folklore</td>\n",
       "    </tr>\n",
       "    <tr>\n",
       "      <th>9</th>\n",
       "      <td>JOHN SKELTON</td>\n",
       "      <td>Pla ce bo,\\r\\nWho is there, who?\\r\\nDi le xi,\\...</td>\n",
       "      <td>The Book of Phillip Sparrow</td>\n",
       "      <td>Renaissance</td>\n",
       "      <td>Mythology &amp; Folklore</td>\n",
       "    </tr>\n",
       "    <tr>\n",
       "      <th>10</th>\n",
       "      <td>EDMUND SPENSER</td>\n",
       "      <td>Ye learned sisters which have oftentimes\\r\\nBe...</td>\n",
       "      <td>Epithalamion</td>\n",
       "      <td>Renaissance</td>\n",
       "      <td>Mythology &amp; Folklore</td>\n",
       "    </tr>\n",
       "    <tr>\n",
       "      <th>11</th>\n",
       "      <td>CHRISTOPHER MARLOWE</td>\n",
       "      <td>On Hellespont, guilty of true love's blood,\\r\\...</td>\n",
       "      <td>Hero and Leander</td>\n",
       "      <td>Renaissance</td>\n",
       "      <td>Mythology &amp; Folklore</td>\n",
       "    </tr>\n",
       "    <tr>\n",
       "      <th>12</th>\n",
       "      <td>EDMUND SPENSER</td>\n",
       "      <td>By that he ended had his ghostly sermon,\\r\\nTh...</td>\n",
       "      <td>Prosopopoia: or Mother Hubbard's Tale</td>\n",
       "      <td>Renaissance</td>\n",
       "      <td>Mythology &amp; Folklore</td>\n",
       "    </tr>\n",
       "    <tr>\n",
       "      <th>13</th>\n",
       "      <td>EDMUND SPENSER</td>\n",
       "      <td>CALM was the day, and through the trembling ai...</td>\n",
       "      <td>Prothalamion</td>\n",
       "      <td>Renaissance</td>\n",
       "      <td>Mythology &amp; Folklore</td>\n",
       "    </tr>\n",
       "    <tr>\n",
       "      <th>14</th>\n",
       "      <td>EDMUND SPENSER</td>\n",
       "      <td>THENOT    &amp;      HOBBINOLL\\r\\nTell me good Hob...</td>\n",
       "      <td>from The Shepheardes Calender: April</td>\n",
       "      <td>Renaissance</td>\n",
       "      <td>Mythology &amp; Folklore</td>\n",
       "    </tr>\n",
       "    <tr>\n",
       "      <th>15</th>\n",
       "      <td>EDMUND SPENSER</td>\n",
       "      <td>PIERCE       &amp;         CUDDIE\\r\\nCuddie, for s...</td>\n",
       "      <td>from The Shepheardes Calender: October</td>\n",
       "      <td>Renaissance</td>\n",
       "      <td>Mythology &amp; Folklore</td>\n",
       "    </tr>\n",
       "    <tr>\n",
       "      <th>16</th>\n",
       "      <td>JOHN DONNE</td>\n",
       "      <td>Go and catch a falling star,\\r\\n    Get with c...</td>\n",
       "      <td>Song: Go and catch a falling star</td>\n",
       "      <td>Renaissance</td>\n",
       "      <td>Mythology &amp; Folklore</td>\n",
       "    </tr>\n",
       "    <tr>\n",
       "      <th>17</th>\n",
       "      <td>WILLIAM SHAKESPEARE</td>\n",
       "      <td>Orpheus with his lute made trees, \\r\\nAnd the ...</td>\n",
       "      <td>Song: Orpheus with his lute made trees</td>\n",
       "      <td>Renaissance</td>\n",
       "      <td>Mythology &amp; Folklore</td>\n",
       "    </tr>\n",
       "    <tr>\n",
       "      <th>18</th>\n",
       "      <td>WILLIAM SHAKESPEARE</td>\n",
       "      <td>What is your substance, whereof are you made,\\...</td>\n",
       "      <td>Sonnet 53: What is your substance, whereof are...</td>\n",
       "      <td>Renaissance</td>\n",
       "      <td>Mythology &amp; Folklore</td>\n",
       "    </tr>\n",
       "    <tr>\n",
       "      <th>19</th>\n",
       "      <td>WILLIAM SHAKESPEARE</td>\n",
       "      <td>Why didst thou promise such a beauteous day,\\r...</td>\n",
       "      <td>Sonnet 34: Why didst thou promise such a beaut...</td>\n",
       "      <td>Renaissance</td>\n",
       "      <td>Nature</td>\n",
       "    </tr>\n",
       "    <tr>\n",
       "      <th>20</th>\n",
       "      <td>THOMAS BASTARD</td>\n",
       "      <td>The welcome Sun from sea Freake is returned,\\r...</td>\n",
       "      <td>Book 1, Epigram 34: Ad. Thomam Freake armig. d...</td>\n",
       "      <td>Renaissance</td>\n",
       "      <td>Nature</td>\n",
       "    </tr>\n",
       "    <tr>\n",
       "      <th>21</th>\n",
       "      <td>THOMAS BASTARD</td>\n",
       "      <td>I met a courtier riding on the plain,\\r\\nWell-...</td>\n",
       "      <td>Book 2, Epigram 22</td>\n",
       "      <td>Renaissance</td>\n",
       "      <td>Nature</td>\n",
       "    </tr>\n",
       "    <tr>\n",
       "      <th>22</th>\n",
       "      <td>THOMAS BASTARD</td>\n",
       "      <td>Walking the fields a wantcatcher I spied,\\r\\nT...</td>\n",
       "      <td>Book 2, Epigram 8</td>\n",
       "      <td>Renaissance</td>\n",
       "      <td>Nature</td>\n",
       "    </tr>\n",
       "    <tr>\n",
       "      <th>23</th>\n",
       "      <td>THOMAS BASTARD</td>\n",
       "      <td>Fishing, if I a fisher may protest,\\r\\nOf plea...</td>\n",
       "      <td>Book 6, Epigram 14: De Piscatione.</td>\n",
       "      <td>Renaissance</td>\n",
       "      <td>Nature</td>\n",
       "    </tr>\n",
       "    <tr>\n",
       "      <th>24</th>\n",
       "      <td>LADY MARY WROTH</td>\n",
       "      <td>Come darkest night, becoming sorrow best;\\r\\n ...</td>\n",
       "      <td>from Pamphilia to Amphilanthus: 19</td>\n",
       "      <td>Renaissance</td>\n",
       "      <td>Nature</td>\n",
       "    </tr>\n",
       "    <tr>\n",
       "      <th>25</th>\n",
       "      <td>EDMUND SPENSER</td>\n",
       "      <td>Januarie. gloga prima. ARGVMENT.\\r\\n\\r\\n    IN...</td>\n",
       "      <td>The Shepheardes Calender: January</td>\n",
       "      <td>Renaissance</td>\n",
       "      <td>Nature</td>\n",
       "    </tr>\n",
       "    <tr>\n",
       "      <th>26</th>\n",
       "      <td>WILLIAM SHAKESPEARE</td>\n",
       "      <td>Where the bee sucks, there suck I:\\r\\nIn a cow...</td>\n",
       "      <td>Song: Where the bee sucks, there suck I</td>\n",
       "      <td>Renaissance</td>\n",
       "      <td>Nature</td>\n",
       "    </tr>\n",
       "    <tr>\n",
       "      <th>27</th>\n",
       "      <td>JOHN DONNE</td>\n",
       "      <td>Tis true, tis day, what though it be?\\r\\nO wil...</td>\n",
       "      <td>Break of Day</td>\n",
       "      <td>Renaissance</td>\n",
       "      <td>Nature</td>\n",
       "    </tr>\n",
       "    <tr>\n",
       "      <th>28</th>\n",
       "      <td>ROBERT SOUTHWELL, SJ</td>\n",
       "      <td>As I in hoary winters night stood shivering in...</td>\n",
       "      <td>The Burning Babe</td>\n",
       "      <td>Renaissance</td>\n",
       "      <td>Nature</td>\n",
       "    </tr>\n",
       "    <tr>\n",
       "      <th>29</th>\n",
       "      <td>WILLIAM BYRD</td>\n",
       "      <td>Care for thy soul as thing of greatest price,\\...</td>\n",
       "      <td>Care for Thy Soul as Thing of Greatest Price</td>\n",
       "      <td>Renaissance</td>\n",
       "      <td>Nature</td>\n",
       "    </tr>\n",
       "    <tr>\n",
       "      <th>...</th>\n",
       "      <td>...</td>\n",
       "      <td>...</td>\n",
       "      <td>...</td>\n",
       "      <td>...</td>\n",
       "      <td>...</td>\n",
       "    </tr>\n",
       "    <tr>\n",
       "      <th>542</th>\n",
       "      <td>ELINOR WYLIE</td>\n",
       "      <td>Too high, too high to pluck\\r\\nMy heart shall ...</td>\n",
       "      <td>Valentine</td>\n",
       "      <td>Modern</td>\n",
       "      <td>Love</td>\n",
       "    </tr>\n",
       "    <tr>\n",
       "      <th>543</th>\n",
       "      <td>MARJORIE PICKTHALL</td>\n",
       "      <td>When the first dark had fallen around them\\r\\n...</td>\n",
       "      <td>Adam and Eve</td>\n",
       "      <td>Modern</td>\n",
       "      <td>Love</td>\n",
       "    </tr>\n",
       "    <tr>\n",
       "      <th>544</th>\n",
       "      <td>D. H. LAWRENCE</td>\n",
       "      <td>My love looks like a girl to-night,\\r\\n      B...</td>\n",
       "      <td>The Bride</td>\n",
       "      <td>Modern</td>\n",
       "      <td>Love</td>\n",
       "    </tr>\n",
       "    <tr>\n",
       "      <th>545</th>\n",
       "      <td>WILLIAM BUTLER YEATS</td>\n",
       "      <td>The jester walked in the garden:\\r\\nThe garden...</td>\n",
       "      <td>The Cap and Bells</td>\n",
       "      <td>Modern</td>\n",
       "      <td>Love</td>\n",
       "    </tr>\n",
       "    <tr>\n",
       "      <th>546</th>\n",
       "      <td>D. H. LAWRENCE</td>\n",
       "      <td>What large, dark hands are those at the window...</td>\n",
       "      <td>Cruelty and Love</td>\n",
       "      <td>Modern</td>\n",
       "      <td>Love</td>\n",
       "    </tr>\n",
       "    <tr>\n",
       "      <th>547</th>\n",
       "      <td>SARA TEASDALE</td>\n",
       "      <td>Supper comes at five o'clock,\\r\\nAt six, the e...</td>\n",
       "      <td>Eight O'Clock</td>\n",
       "      <td>Modern</td>\n",
       "      <td>Love</td>\n",
       "    </tr>\n",
       "    <tr>\n",
       "      <th>548</th>\n",
       "      <td>EZRA POUND</td>\n",
       "      <td>Go, dumb-born book,\\r\\nTell her that sang me o...</td>\n",
       "      <td>Envoi</td>\n",
       "      <td>Modern</td>\n",
       "      <td>Love</td>\n",
       "    </tr>\n",
       "    <tr>\n",
       "      <th>549</th>\n",
       "      <td>SARA TEASDALE</td>\n",
       "      <td>They came to tell your faults to me,\\r\\nThey n...</td>\n",
       "      <td>Faults</td>\n",
       "      <td>Modern</td>\n",
       "      <td>Love</td>\n",
       "    </tr>\n",
       "    <tr>\n",
       "      <th>550</th>\n",
       "      <td>LOUIS UNTERMEYER</td>\n",
       "      <td>I never knew the earth had so much gold\\r\\nThe...</td>\n",
       "      <td>Feuerzauber</td>\n",
       "      <td>Modern</td>\n",
       "      <td>Love</td>\n",
       "    </tr>\n",
       "    <tr>\n",
       "      <th>551</th>\n",
       "      <td>D. H. LAWRENCE</td>\n",
       "      <td>When she rises in the morning\\r\\nI linger to w...</td>\n",
       "      <td>Gloire de Dijon</td>\n",
       "      <td>Modern</td>\n",
       "      <td>Love</td>\n",
       "    </tr>\n",
       "    <tr>\n",
       "      <th>552</th>\n",
       "      <td>LOUIS UNTERMEYER</td>\n",
       "      <td>Louis Untermeyer, Infidelity from The New Poet...</td>\n",
       "      <td>Infidelity</td>\n",
       "      <td>Modern</td>\n",
       "      <td>Love</td>\n",
       "    </tr>\n",
       "    <tr>\n",
       "      <th>553</th>\n",
       "      <td>D. H. LAWRENCE</td>\n",
       "      <td>Version 1 (1921)\\r\\nYours is the shame and sor...</td>\n",
       "      <td>Last Words to Miriam</td>\n",
       "      <td>Modern</td>\n",
       "      <td>Love</td>\n",
       "    </tr>\n",
       "    <tr>\n",
       "      <th>554</th>\n",
       "      <td>SARA TEASDALE</td>\n",
       "      <td>Strephon kissed me in the spring,\\r\\nRobin in ...</td>\n",
       "      <td>The Look</td>\n",
       "      <td>Modern</td>\n",
       "      <td>Love</td>\n",
       "    </tr>\n",
       "    <tr>\n",
       "      <th>555</th>\n",
       "      <td>T. S. ELIOT</td>\n",
       "      <td>Let us go then, you and I,\\r\\nWhen the evening...</td>\n",
       "      <td>The Love Song of J. Alfred Prufrock</td>\n",
       "      <td>Modern</td>\n",
       "      <td>Love</td>\n",
       "    </tr>\n",
       "    <tr>\n",
       "      <th>556</th>\n",
       "      <td>EDGAR LEE MASTERS</td>\n",
       "      <td>I went to the dances at Chandlerville,\\r\\nAnd ...</td>\n",
       "      <td>Lucinda Matlock</td>\n",
       "      <td>Modern</td>\n",
       "      <td>Love</td>\n",
       "    </tr>\n",
       "    <tr>\n",
       "      <th>557</th>\n",
       "      <td>PAUL LAURENCE DUNBAR</td>\n",
       "      <td>Seen my lady home las' night,\\r\\nJump back, ho...</td>\n",
       "      <td>A Negro Love Song</td>\n",
       "      <td>Modern</td>\n",
       "      <td>Love</td>\n",
       "    </tr>\n",
       "    <tr>\n",
       "      <th>558</th>\n",
       "      <td>PAUL LAURENCE DUNBAR</td>\n",
       "      <td>W'en daih's chillun in de house,\\r\\nDey keep o...</td>\n",
       "      <td>The Old Front Gate</td>\n",
       "      <td>Modern</td>\n",
       "      <td>Love</td>\n",
       "    </tr>\n",
       "    <tr>\n",
       "      <th>559</th>\n",
       "      <td>SARA TEASDALE</td>\n",
       "      <td>I saw her in a Broadway car,\\r\\nThe woman I mi...</td>\n",
       "      <td>The Old Maid</td>\n",
       "      <td>Modern</td>\n",
       "      <td>Love</td>\n",
       "    </tr>\n",
       "    <tr>\n",
       "      <th>560</th>\n",
       "      <td>WALLACE STEVENS</td>\n",
       "      <td>I\\r\\...</td>\n",
       "      <td>Peter Quince at the Clavier</td>\n",
       "      <td>Modern</td>\n",
       "      <td>Love</td>\n",
       "    </tr>\n",
       "    <tr>\n",
       "      <th>561</th>\n",
       "      <td>T. S. ELIOT</td>\n",
       "      <td>I\\r\\nAmong the smoke and fog of a December aft...</td>\n",
       "      <td>Portrait of a Lady</td>\n",
       "      <td>Modern</td>\n",
       "      <td>Love</td>\n",
       "    </tr>\n",
       "    <tr>\n",
       "      <th>562</th>\n",
       "      <td>EDGAR LEE MASTERS</td>\n",
       "      <td>Maurice, weep not, I am not here under this pi...</td>\n",
       "      <td>Sarah Brown</td>\n",
       "      <td>Modern</td>\n",
       "      <td>Love</td>\n",
       "    </tr>\n",
       "    <tr>\n",
       "      <th>563</th>\n",
       "      <td>MARJORIE PICKTHALL</td>\n",
       "      <td>I shall not go with pain\\r\\nWhether you hold m...</td>\n",
       "      <td>Song</td>\n",
       "      <td>Modern</td>\n",
       "      <td>Love</td>\n",
       "    </tr>\n",
       "    <tr>\n",
       "      <th>564</th>\n",
       "      <td>PAUL LAURENCE DUNBAR</td>\n",
       "      <td>Wintah, summah, snow er shine,\\r\\nHit's all de...</td>\n",
       "      <td>Song (Wintah, summah, snow er shine)</td>\n",
       "      <td>Modern</td>\n",
       "      <td>Love</td>\n",
       "    </tr>\n",
       "    <tr>\n",
       "      <th>565</th>\n",
       "      <td>LOUISE BOGAN</td>\n",
       "      <td>This youth too long has heard the break\\r\\nOf ...</td>\n",
       "      <td>A Tale</td>\n",
       "      <td>Modern</td>\n",
       "      <td>Love</td>\n",
       "    </tr>\n",
       "    <tr>\n",
       "      <th>566</th>\n",
       "      <td>D. H. LAWRENCE</td>\n",
       "      <td>Making his advances\\r\\nHe does not look at her...</td>\n",
       "      <td>Tortoise Gallantry</td>\n",
       "      <td>Modern</td>\n",
       "      <td>Love</td>\n",
       "    </tr>\n",
       "    <tr>\n",
       "      <th>567</th>\n",
       "      <td>D. H. LAWRENCE</td>\n",
       "      <td>I thought he was dumb,\\r\\nI said he was dumb,\\...</td>\n",
       "      <td>Tortoise Shout</td>\n",
       "      <td>Modern</td>\n",
       "      <td>Love</td>\n",
       "    </tr>\n",
       "    <tr>\n",
       "      <th>568</th>\n",
       "      <td>SARA TEASDALE</td>\n",
       "      <td>With the man I love who loves me not,\\r\\nI wal...</td>\n",
       "      <td>Union Square</td>\n",
       "      <td>Modern</td>\n",
       "      <td>Love</td>\n",
       "    </tr>\n",
       "    <tr>\n",
       "      <th>570</th>\n",
       "      <td>WILLIAM BUTLER YEATS</td>\n",
       "      <td>When you are old and grey and full of sleep,\\r...</td>\n",
       "      <td>When You Are Old</td>\n",
       "      <td>Modern</td>\n",
       "      <td>Love</td>\n",
       "    </tr>\n",
       "    <tr>\n",
       "      <th>571</th>\n",
       "      <td>CARL SANDBURG</td>\n",
       "      <td>Give me hunger,\\r\\nO you gods that sit and giv...</td>\n",
       "      <td>At a Window</td>\n",
       "      <td>Modern</td>\n",
       "      <td>Love</td>\n",
       "    </tr>\n",
       "    <tr>\n",
       "      <th>572</th>\n",
       "      <td>RICHARD ALDINGTON</td>\n",
       "      <td>Potuia, potuia\\r\\nWhite grave goddess,\\r\\nPity...</td>\n",
       "      <td>To a Greek Marble</td>\n",
       "      <td>Modern</td>\n",
       "      <td>Love</td>\n",
       "    </tr>\n",
       "  </tbody>\n",
       "</table>\n",
       "<p>503 rows × 5 columns</p>\n",
       "</div>"
      ],
      "text/plain": [
       "                                      author  \\\n",
       "0                        WILLIAM SHAKESPEARE   \n",
       "1    DUCHESS OF NEWCASTLE MARGARET CAVENDISH   \n",
       "2                             THOMAS BASTARD   \n",
       "3                             EDMUND SPENSER   \n",
       "4                          RICHARD BARNFIELD   \n",
       "5                          RICHARD BARNFIELD   \n",
       "6                          SIR WALTER RALEGH   \n",
       "7                          QUEEN ELIZABETH I   \n",
       "8                                 JOHN DONNE   \n",
       "9                               JOHN SKELTON   \n",
       "10                            EDMUND SPENSER   \n",
       "11                       CHRISTOPHER MARLOWE   \n",
       "12                            EDMUND SPENSER   \n",
       "13                            EDMUND SPENSER   \n",
       "14                            EDMUND SPENSER   \n",
       "15                            EDMUND SPENSER   \n",
       "16                                JOHN DONNE   \n",
       "17                       WILLIAM SHAKESPEARE   \n",
       "18                       WILLIAM SHAKESPEARE   \n",
       "19                       WILLIAM SHAKESPEARE   \n",
       "20                            THOMAS BASTARD   \n",
       "21                            THOMAS BASTARD   \n",
       "22                            THOMAS BASTARD   \n",
       "23                            THOMAS BASTARD   \n",
       "24                           LADY MARY WROTH   \n",
       "25                            EDMUND SPENSER   \n",
       "26                       WILLIAM SHAKESPEARE   \n",
       "27                                JOHN DONNE   \n",
       "28                      ROBERT SOUTHWELL, SJ   \n",
       "29                              WILLIAM BYRD   \n",
       "..                                       ...   \n",
       "542                             ELINOR WYLIE   \n",
       "543                       MARJORIE PICKTHALL   \n",
       "544                           D. H. LAWRENCE   \n",
       "545                     WILLIAM BUTLER YEATS   \n",
       "546                           D. H. LAWRENCE   \n",
       "547                            SARA TEASDALE   \n",
       "548                               EZRA POUND   \n",
       "549                            SARA TEASDALE   \n",
       "550                         LOUIS UNTERMEYER   \n",
       "551                           D. H. LAWRENCE   \n",
       "552                         LOUIS UNTERMEYER   \n",
       "553                           D. H. LAWRENCE   \n",
       "554                            SARA TEASDALE   \n",
       "555                              T. S. ELIOT   \n",
       "556                        EDGAR LEE MASTERS   \n",
       "557                     PAUL LAURENCE DUNBAR   \n",
       "558                     PAUL LAURENCE DUNBAR   \n",
       "559                            SARA TEASDALE   \n",
       "560                          WALLACE STEVENS   \n",
       "561                              T. S. ELIOT   \n",
       "562                        EDGAR LEE MASTERS   \n",
       "563                       MARJORIE PICKTHALL   \n",
       "564                     PAUL LAURENCE DUNBAR   \n",
       "565                             LOUISE BOGAN   \n",
       "566                           D. H. LAWRENCE   \n",
       "567                           D. H. LAWRENCE   \n",
       "568                            SARA TEASDALE   \n",
       "570                     WILLIAM BUTLER YEATS   \n",
       "571                            CARL SANDBURG   \n",
       "572                        RICHARD ALDINGTON   \n",
       "\n",
       "                                               content  \\\n",
       "0    Let the bird of loudest lay\\r\\nOn the sole Ara...   \n",
       "1    Sir Charles into my chamber coming in,\\r\\nWhen...   \n",
       "2    Our vice runs beyond all that old men saw,\\r\\n...   \n",
       "3    Lo I the man, whose Muse whilome did maske,\\r\\...   \n",
       "4    Long have I longd to see my love againe,\\r\\nSt...   \n",
       "5    Cherry-lipt Adonis in his snowie shape,\\r\\n   ...   \n",
       "6    Praisd be Dianas fair and harmless light;\\r\\nP...   \n",
       "7    When I was fair and young, then favor graced m...   \n",
       "8    When by thy scorn, O murd'ress, I am dead\\r\\n ...   \n",
       "9    Pla ce bo,\\r\\nWho is there, who?\\r\\nDi le xi,\\...   \n",
       "10   Ye learned sisters which have oftentimes\\r\\nBe...   \n",
       "11   On Hellespont, guilty of true love's blood,\\r\\...   \n",
       "12   By that he ended had his ghostly sermon,\\r\\nTh...   \n",
       "13   CALM was the day, and through the trembling ai...   \n",
       "14   THENOT    &      HOBBINOLL\\r\\nTell me good Hob...   \n",
       "15   PIERCE       &         CUDDIE\\r\\nCuddie, for s...   \n",
       "16   Go and catch a falling star,\\r\\n    Get with c...   \n",
       "17   Orpheus with his lute made trees, \\r\\nAnd the ...   \n",
       "18   What is your substance, whereof are you made,\\...   \n",
       "19   Why didst thou promise such a beauteous day,\\r...   \n",
       "20   The welcome Sun from sea Freake is returned,\\r...   \n",
       "21   I met a courtier riding on the plain,\\r\\nWell-...   \n",
       "22   Walking the fields a wantcatcher I spied,\\r\\nT...   \n",
       "23   Fishing, if I a fisher may protest,\\r\\nOf plea...   \n",
       "24   Come darkest night, becoming sorrow best;\\r\\n ...   \n",
       "25   Januarie. gloga prima. ARGVMENT.\\r\\n\\r\\n    IN...   \n",
       "26   Where the bee sucks, there suck I:\\r\\nIn a cow...   \n",
       "27   Tis true, tis day, what though it be?\\r\\nO wil...   \n",
       "28   As I in hoary winters night stood shivering in...   \n",
       "29   Care for thy soul as thing of greatest price,\\...   \n",
       "..                                                 ...   \n",
       "542  Too high, too high to pluck\\r\\nMy heart shall ...   \n",
       "543  When the first dark had fallen around them\\r\\n...   \n",
       "544  My love looks like a girl to-night,\\r\\n      B...   \n",
       "545  The jester walked in the garden:\\r\\nThe garden...   \n",
       "546  What large, dark hands are those at the window...   \n",
       "547  Supper comes at five o'clock,\\r\\nAt six, the e...   \n",
       "548  Go, dumb-born book,\\r\\nTell her that sang me o...   \n",
       "549  They came to tell your faults to me,\\r\\nThey n...   \n",
       "550  I never knew the earth had so much gold\\r\\nThe...   \n",
       "551  When she rises in the morning\\r\\nI linger to w...   \n",
       "552  Louis Untermeyer, Infidelity from The New Poet...   \n",
       "553  Version 1 (1921)\\r\\nYours is the shame and sor...   \n",
       "554  Strephon kissed me in the spring,\\r\\nRobin in ...   \n",
       "555  Let us go then, you and I,\\r\\nWhen the evening...   \n",
       "556  I went to the dances at Chandlerville,\\r\\nAnd ...   \n",
       "557  Seen my lady home las' night,\\r\\nJump back, ho...   \n",
       "558  W'en daih's chillun in de house,\\r\\nDey keep o...   \n",
       "559  I saw her in a Broadway car,\\r\\nThe woman I mi...   \n",
       "560                                            I\\r\\...   \n",
       "561  I\\r\\nAmong the smoke and fog of a December aft...   \n",
       "562  Maurice, weep not, I am not here under this pi...   \n",
       "563  I shall not go with pain\\r\\nWhether you hold m...   \n",
       "564  Wintah, summah, snow er shine,\\r\\nHit's all de...   \n",
       "565  This youth too long has heard the break\\r\\nOf ...   \n",
       "566  Making his advances\\r\\nHe does not look at her...   \n",
       "567  I thought he was dumb,\\r\\nI said he was dumb,\\...   \n",
       "568  With the man I love who loves me not,\\r\\nI wal...   \n",
       "570  When you are old and grey and full of sleep,\\r...   \n",
       "571  Give me hunger,\\r\\nO you gods that sit and giv...   \n",
       "572  Potuia, potuia\\r\\nWhite grave goddess,\\r\\nPity...   \n",
       "\n",
       "                                             poem_name          age  \\\n",
       "0                           The Phoenix and the Turtle  Renaissance   \n",
       "1                             An Epilogue to the Above  Renaissance   \n",
       "2                                   Book 7, Epigram 42  Renaissance   \n",
       "3              from The Faerie Queene: Book I, Canto I  Renaissance   \n",
       "4                                            Sonnet 16  Renaissance   \n",
       "5                                            Sonnet 17  Renaissance   \n",
       "6             Praisd be Dianas Fair and Harmless Light  Renaissance   \n",
       "7                            When I Was Fair and Young  Renaissance   \n",
       "8                                       The Apparition  Renaissance   \n",
       "9                          The Book of Phillip Sparrow  Renaissance   \n",
       "10                                        Epithalamion  Renaissance   \n",
       "11                                    Hero and Leander  Renaissance   \n",
       "12               Prosopopoia: or Mother Hubbard's Tale  Renaissance   \n",
       "13                                        Prothalamion  Renaissance   \n",
       "14                from The Shepheardes Calender: April  Renaissance   \n",
       "15              from The Shepheardes Calender: October  Renaissance   \n",
       "16                   Song: Go and catch a falling star  Renaissance   \n",
       "17              Song: Orpheus with his lute made trees  Renaissance   \n",
       "18   Sonnet 53: What is your substance, whereof are...  Renaissance   \n",
       "19   Sonnet 34: Why didst thou promise such a beaut...  Renaissance   \n",
       "20   Book 1, Epigram 34: Ad. Thomam Freake armig. d...  Renaissance   \n",
       "21                                  Book 2, Epigram 22  Renaissance   \n",
       "22                                   Book 2, Epigram 8  Renaissance   \n",
       "23                  Book 6, Epigram 14: De Piscatione.  Renaissance   \n",
       "24                  from Pamphilia to Amphilanthus: 19  Renaissance   \n",
       "25                   The Shepheardes Calender: January  Renaissance   \n",
       "26             Song: Where the bee sucks, there suck I  Renaissance   \n",
       "27                                        Break of Day  Renaissance   \n",
       "28                                    The Burning Babe  Renaissance   \n",
       "29        Care for Thy Soul as Thing of Greatest Price  Renaissance   \n",
       "..                                                 ...          ...   \n",
       "542                                          Valentine       Modern   \n",
       "543                                       Adam and Eve       Modern   \n",
       "544                                          The Bride       Modern   \n",
       "545                                  The Cap and Bells       Modern   \n",
       "546                                  Cruelty and Love        Modern   \n",
       "547                                      Eight O'Clock       Modern   \n",
       "548                                              Envoi       Modern   \n",
       "549                                             Faults       Modern   \n",
       "550                                        Feuerzauber       Modern   \n",
       "551                                    Gloire de Dijon       Modern   \n",
       "552                                         Infidelity       Modern   \n",
       "553                               Last Words to Miriam       Modern   \n",
       "554                                           The Look       Modern   \n",
       "555                The Love Song of J. Alfred Prufrock       Modern   \n",
       "556                                    Lucinda Matlock       Modern   \n",
       "557                                  A Negro Love Song       Modern   \n",
       "558                                 The Old Front Gate       Modern   \n",
       "559                                       The Old Maid       Modern   \n",
       "560                        Peter Quince at the Clavier       Modern   \n",
       "561                                 Portrait of a Lady       Modern   \n",
       "562                                        Sarah Brown       Modern   \n",
       "563                                               Song       Modern   \n",
       "564               Song (Wintah, summah, snow er shine)       Modern   \n",
       "565                                             A Tale       Modern   \n",
       "566                                 Tortoise Gallantry       Modern   \n",
       "567                                     Tortoise Shout       Modern   \n",
       "568                                       Union Square       Modern   \n",
       "570                                   When You Are Old       Modern   \n",
       "571                                        At a Window       Modern   \n",
       "572                                  To a Greek Marble       Modern   \n",
       "\n",
       "                     type  \n",
       "0    Mythology & Folklore  \n",
       "1    Mythology & Folklore  \n",
       "2    Mythology & Folklore  \n",
       "3    Mythology & Folklore  \n",
       "4    Mythology & Folklore  \n",
       "5    Mythology & Folklore  \n",
       "6    Mythology & Folklore  \n",
       "7    Mythology & Folklore  \n",
       "8    Mythology & Folklore  \n",
       "9    Mythology & Folklore  \n",
       "10   Mythology & Folklore  \n",
       "11   Mythology & Folklore  \n",
       "12   Mythology & Folklore  \n",
       "13   Mythology & Folklore  \n",
       "14   Mythology & Folklore  \n",
       "15   Mythology & Folklore  \n",
       "16   Mythology & Folklore  \n",
       "17   Mythology & Folklore  \n",
       "18   Mythology & Folklore  \n",
       "19                 Nature  \n",
       "20                 Nature  \n",
       "21                 Nature  \n",
       "22                 Nature  \n",
       "23                 Nature  \n",
       "24                 Nature  \n",
       "25                 Nature  \n",
       "26                 Nature  \n",
       "27                 Nature  \n",
       "28                 Nature  \n",
       "29                 Nature  \n",
       "..                    ...  \n",
       "542                  Love  \n",
       "543                  Love  \n",
       "544                  Love  \n",
       "545                  Love  \n",
       "546                  Love  \n",
       "547                  Love  \n",
       "548                  Love  \n",
       "549                  Love  \n",
       "550                  Love  \n",
       "551                  Love  \n",
       "552                  Love  \n",
       "553                  Love  \n",
       "554                  Love  \n",
       "555                  Love  \n",
       "556                  Love  \n",
       "557                  Love  \n",
       "558                  Love  \n",
       "559                  Love  \n",
       "560                  Love  \n",
       "561                  Love  \n",
       "562                  Love  \n",
       "563                  Love  \n",
       "564                  Love  \n",
       "565                  Love  \n",
       "566                  Love  \n",
       "567                  Love  \n",
       "568                  Love  \n",
       "570                  Love  \n",
       "571                  Love  \n",
       "572                  Love  \n",
       "\n",
       "[503 rows x 5 columns]"
      ]
     },
     "execution_count": 137,
     "metadata": {},
     "output_type": "execute_result"
    }
   ],
   "source": [
    "df.drop_duplicates()   "
   ]
  },
  {
   "cell_type": "code",
   "execution_count": 138,
   "metadata": {},
   "outputs": [
    {
     "name": "stdout",
     "output_type": "stream",
     "text": [
      "author                                     WILLIAM SHAKESPEARE\n",
      "content      Let the bird of loudest lay\\r\\nOn the sole Ara...\n",
      "poem_name                           The Phoenix and the Turtle\n",
      "age                                                Renaissance\n",
      "type                                      Mythology & Folklore\n",
      "Name: 0, dtype: object\n",
      "author                                     WILLIAM SHAKESPEARE\n",
      "content      Let the bird of loudest lay\\r\\nOn the sole Ara...\n",
      "poem_name                           The Phoenix and the Turtle\n",
      "age                                                Renaissance\n",
      "type                                                      Love\n",
      "Name: 74, dtype: object\n"
     ]
    }
   ],
   "source": [
    "print(df.iloc[0,:])\n",
    "print(df.iloc[74,:])   #conclusion: Same poem having two different types: Mythology & Folklore and Love"
   ]
  },
  {
   "cell_type": "code",
   "execution_count": 139,
   "metadata": {},
   "outputs": [
    {
     "data": {
      "text/plain": [
       "<matplotlib.axes._subplots.AxesSubplot at 0x7f45f4410eb8>"
      ]
     },
     "execution_count": 139,
     "metadata": {},
     "output_type": "execute_result"
    },
    {
     "data": {
      "image/png": "[encoded data removed]",
      "text/plain": [
       "<Figure size 432x288 with 1 Axes>"
      ]
     },
     "metadata": {
      "needs_background": "light"
     },
     "output_type": "display_data"
    }
   ],
   "source": [
    "sns.countplot(x='type',data=df)"
   ]
  },
  {
   "cell_type": "code",
   "execution_count": 140,
   "metadata": {},
   "outputs": [
    {
     "data": {
      "image/png": "[encoded data removed]",
      "text/plain": [
       "<Figure size 432x288 with 1 Axes>"
      ]
     },
     "metadata": {
      "needs_background": "light"
     },
     "output_type": "display_data"
    }
   ],
   "source": [
    "sns.countplot(x='author',data=df)\n",
    "plt.xticks(rotation=90)\n",
    "plt.show()"
   ]
  },
  {
   "cell_type": "code",
   "execution_count": 141,
   "metadata": {},
   "outputs": [
    {
     "data": {
      "text/plain": [
       "author       0\n",
       "content      0\n",
       "poem_name    2\n",
       "age          0\n",
       "type         0\n",
       "dtype: int64"
      ]
     },
     "execution_count": 141,
     "metadata": {},
     "output_type": "execute_result"
    }
   ],
   "source": [
    "df.isnull().sum()"
   ]
  },
  {
   "cell_type": "code",
   "execution_count": 142,
   "metadata": {},
   "outputs": [
    {
     "data": {
      "text/plain": [
       "<matplotlib.axes._subplots.AxesSubplot at 0x7f462ff5d7f0>"
      ]
     },
     "execution_count": 142,
     "metadata": {},
     "output_type": "execute_result"
    },
    {
     "data": {
      "image/png": "[encoded data removed]",
      "text/plain": [
       "<Figure size 432x288 with 2 Axes>"
      ]
     },
     "metadata": {
      "needs_background": "light"
     },
     "output_type": "display_data"
    }
   ],
   "source": [
    "sns.heatmap(df.isnull())"
   ]
  },
  {
   "cell_type": "code",
   "execution_count": 143,
   "metadata": {},
   "outputs": [
    {
     "data": {
      "text/plain": [
       "[]"
      ]
     },
     "execution_count": 143,
     "metadata": {},
     "output_type": "execute_result"
    }
   ],
   "source": [
    "# OR check whether there is any null data \n",
    "df[df.content.isnull()==True].index.tolist()"
   ]
  },
  {
   "cell_type": "code",
   "execution_count": 144,
   "metadata": {},
   "outputs": [],
   "source": [
    "df.dropna(inplace=True)     #drop all null values"
   ]
  },
  {
   "cell_type": "code",
   "execution_count": 145,
   "metadata": {},
   "outputs": [
    {
     "data": {
      "text/plain": [
       "author       0\n",
       "content      0\n",
       "poem_name    0\n",
       "age          0\n",
       "type         0\n",
       "dtype: int64"
      ]
     },
     "execution_count": 145,
     "metadata": {},
     "output_type": "execute_result"
    }
   ],
   "source": [
    "df.isnull().sum()"
   ]
  },
  {
   "cell_type": "code",
   "execution_count": 146,
   "metadata": {},
   "outputs": [
    {
     "data": {
      "text/plain": [
       "<matplotlib.axes._subplots.AxesSubplot at 0x7f45f45d8d68>"
      ]
     },
     "execution_count": 146,
     "metadata": {},
     "output_type": "execute_result"
    },
    {
     "data": {
      "image/png": "[encoded data removed]",
      "text/plain": [
       "<Figure size 432x288 with 2 Axes>"
      ]
     },
     "metadata": {
      "needs_background": "light"
     },
     "output_type": "display_data"
    }
   ],
   "source": [
    "sns.heatmap(df.isnull())"
   ]
  },
  {
   "cell_type": "code",
   "execution_count": 147,
   "metadata": {},
   "outputs": [
    {
     "data": {
      "text/plain": [
       "'Let the bird of loudest lay\\r\\nOn the sole Arabian tree\\r\\nHerald sad and trumpet be,\\r\\nTo whose sound chaste wings obey.\\r\\n\\r\\nBut thou shrieking harbinger,\\r\\nFoul precurrer of the fiend,\\r\\nAugur of the fever\\'s end,\\r\\nTo this troop come thou not near.\\r\\n\\r\\nFrom this session interdict\\r\\nEvery fowl of tyrant wing,\\r\\nSave the eagle, feather\\'d king;\\r\\nKeep the obsequy so strict.\\r\\n\\r\\nLet the priest in surplice white,\\r\\nThat defunctive music can,\\r\\nBe the death-divining swan,\\r\\nLest the requiem lack his right.\\r\\n\\r\\nAnd thou treble-dated crow,\\r\\nThat thy sable gender mak\\'st\\r\\nWith the breath thou giv\\'st and tak\\'st,\\r\\n\\'Mongst our mourners shalt thou go.\\r\\n\\r\\nHere the anthem doth commence:\\r\\nLove and constancy is dead;\\r\\nPhoenix and the Turtle fled\\r\\nIn a mutual flame from hence.\\r\\n\\r\\nSo they lov\\'d, as love in twain\\r\\nHad the essence but in one;\\r\\nTwo distincts, division none:\\r\\nNumber there in love was slain.\\r\\n\\r\\nHearts remote, yet not asunder;\\r\\nDistance and no space was seen\\r\\n\\'Twixt this Turtle and his queen:\\r\\nBut in them it were a wonder.\\r\\n\\r\\nSo between them love did shine\\r\\nThat the Turtle saw his right\\r\\nFlaming in the Phoenix\\' sight:\\r\\nEither was the other\\'s mine.\\r\\n\\r\\nProperty was thus appalled\\r\\nThat the self was not the same;\\r\\nSingle nature\\'s double name\\r\\nNeither two nor one was called.\\r\\n\\r\\nReason, in itself confounded,\\r\\nSaw division grow together,\\r\\nTo themselves yet either neither,\\r\\nSimple were so well compounded;\\r\\n\\r\\nThat it cried, \"How true a twain\\r\\nSeemeth this concordant one!\\r\\nLove has reason, reason none,\\r\\nIf what parts can so remain.\"\\r\\n\\r\\nWhereupon it made this threne\\r\\nTo the Phoenix and the Dove,\\r\\nCo-supremes and stars of love,\\r\\nAs chorus to their tragic scene:\\r\\n\\r\\n                 threnos\\r\\n\\r\\nBeauty, truth, and rarity,\\r\\nGrace in all simplicity,\\r\\nHere enclos\\'d, in cinders lie.\\r\\n\\r\\nDeath is now the Phoenix\\' nest,\\r\\nAnd the Turtle\\'s loyal breast\\r\\nTo eternity doth rest,\\r\\n\\r\\nLeaving no posterity:\\r\\n\\'Twas not their infirmity,\\r\\nIt was married chastity.\\r\\n\\r\\nTruth may seem but cannot be;\\r\\nBeauty brag but \\'tis not she;\\r\\nTruth and beauty buried be.\\r\\n\\r\\nTo this urn let those repair\\r\\nThat are either true or fair;\\r\\nFor these dead birds sigh a prayer.'"
      ]
     },
     "execution_count": 147,
     "metadata": {},
     "output_type": "execute_result"
    }
   ],
   "source": [
    "df.content[0]"
   ]
  },
  {
   "cell_type": "code",
   "execution_count": 148,
   "metadata": {},
   "outputs": [
    {
     "name": "stdout",
     "output_type": "stream",
     "text": [
      "Let the bird of loudest lay\n",
      "On the sole Arabian tree\n",
      "Herald sad and trumpet be,\n",
      "To whose sound chaste wings obey.\n",
      "\n",
      "But thou shrieking harbinger,\n",
      "Foul precurrer of the fiend,\n",
      "Augur of the fever's end,\n",
      "To this troop come thou not near.\n",
      "\n",
      "From this session interdict\n",
      "Every fowl of tyrant wing,\n",
      "Save the eagle, feather'd king;\n",
      "Keep the obsequy so strict.\n",
      "\n",
      "Let the priest in surplice white,\n",
      "That defunctive music can,\n",
      "Be the death-divining swan,\n",
      "Lest the requiem lack his right.\n",
      "\n",
      "And thou treble-dated crow,\n",
      "That thy sable gender mak'st\n",
      "With the breath thou giv'st and tak'st,\n",
      "'Mongst our mourners shalt thou go.\n",
      "\n",
      "Here the anthem doth commence:\n",
      "Love and constancy is dead;\n",
      "Phoenix and the Turtle fled\n",
      "In a mutual flame from hence.\n",
      "\n",
      "So they lov'd, as love in twain\n",
      "Had the essence but in one;\n",
      "Two distincts, division none:\n",
      "Number there in love was slain.\n",
      "\n",
      "Hearts remote, yet not asunder;\n",
      "Distance and no space was seen\n",
      "'Twixt this Turtle and his queen:\n",
      "But in them it were a wonder.\n",
      "\n",
      "So between them love did shine\n",
      "That the Turtle saw his right\n",
      "Flaming in the Phoenix' sight:\n",
      "Either was the other's mine.\n",
      "\n",
      "Property was thus appalled\n",
      "That the self was not the same;\n",
      "Single nature's double name\n",
      "Neither two nor one was called.\n",
      "\n",
      "Reason, in itself confounded,\n",
      "Saw division grow together,\n",
      "To themselves yet either neither,\n",
      "Simple were so well compounded;\n",
      "\n",
      "That it cried, \"How true a twain\n",
      "Seemeth this concordant one!\n",
      "Love has reason, reason none,\n",
      "If what parts can so remain.\"\n",
      "\n",
      "Whereupon it made this threne\n",
      "To the Phoenix and the Dove,\n",
      "Co-supremes and stars of love,\n",
      "As chorus to their tragic scene:\n",
      "\n",
      "                 threnos\n",
      "\n",
      "Beauty, truth, and rarity,\n",
      "Grace in all simplicity,\n",
      "Here enclos'd, in cinders lie.\n",
      "\n",
      "Death is now the Phoenix' nest,\n",
      "And the Turtle's loyal breast\n",
      "To eternity doth rest,\n",
      "\n",
      "Leaving no posterity:\n",
      "'Twas not their infirmity,\n",
      "It was married chastity.\n",
      "\n",
      "Truth may seem but cannot be;\n",
      "Beauty brag but 'tis not she;\n",
      "Truth and beauty buried be.\n",
      "\n",
      "To this urn let those repair\n",
      "That are either true or fair;\n",
      "For these dead birds sigh a prayer.\n"
     ]
    }
   ],
   "source": [
    "lin=df.content[0].splitlines()\n",
    "for li in lin:\n",
    "    print(li)\n"
   ]
  },
  {
   "cell_type": "markdown",
   "metadata": {},
   "source": [
    "## Convert data into feature\n",
    "\n",
    "### 1.Turn all the sentence into lower case\n",
    "### 2.Remove punctuation and Line break\n",
    "### 3.Remove the word of the list in doc\n",
    "### 4.Find the word map using tfidfvectorizer library"
   ]
  },
  {
   "cell_type": "code",
   "execution_count": 149,
   "metadata": {},
   "outputs": [],
   "source": [
    "df.content=df.content.str.lower()"
   ]
  },
  {
   "cell_type": "code",
   "execution_count": 150,
   "metadata": {},
   "outputs": [
    {
     "data": {
      "text/plain": [
       "'The Phoenix and the Turtle'"
      ]
     },
     "execution_count": 150,
     "metadata": {},
     "output_type": "execute_result"
    }
   ],
   "source": [
    "df.poem_name[0]"
   ]
  },
  {
   "cell_type": "code",
   "execution_count": 151,
   "metadata": {},
   "outputs": [
    {
     "name": "stdout",
     "output_type": "stream",
     "text": [
      "<class 'pandas.core.frame.DataFrame'>\n",
      "Int64Index: 501 entries, 0 to 572\n",
      "Data columns (total 5 columns):\n",
      "author       501 non-null object\n",
      "content      501 non-null object\n",
      "poem_name    501 non-null object\n",
      "age          501 non-null object\n",
      "type         501 non-null object\n",
      "dtypes: object(5)\n",
      "memory usage: 43.5+ KB\n"
     ]
    }
   ],
   "source": [
    "df.info()"
   ]
  },
  {
   "cell_type": "code",
   "execution_count": 152,
   "metadata": {},
   "outputs": [],
   "source": [
    "df.content=df.content.str.replace('\\n', \" \")\n",
    "df.content=df.content.str.replace(\"\\t\", \" \")\n",
    "df.content=df.content.str.replace(\"\\r\", \" \")\n",
    "df.content=df.content.str.replace(\",\",\" \").replace(\".\",\" \")"
   ]
  },
  {
   "cell_type": "code",
   "execution_count": 153,
   "metadata": {},
   "outputs": [
    {
     "data": {
      "text/plain": [
       "0      let the bird of loudest lay  on the sole arabi...\n",
       "1      sir charles into my chamber coming in   when i...\n",
       "2      our vice runs beyond all that old men saw   an...\n",
       "3      lo i the man  whose muse whilome did maske   a...\n",
       "4      long have i longd to see my love againe   stil...\n",
       "5      cherry-lipt adonis in his snowie shape       m...\n",
       "6      praisd be dianas fair and harmless light;  pra...\n",
       "7      when i was fair and young  then favor graced m...\n",
       "8      when by thy scorn  o murd'ress  i am dead     ...\n",
       "9      pla ce bo   who is there  who?  di le xi   dam...\n",
       "10     ye learned sisters which have oftentimes  been...\n",
       "11     on hellespont  guilty of true love's blood   i...\n",
       "12     by that he ended had his ghostly sermon   the ...\n",
       "13     calm was the day  and through the trembling ai...\n",
       "14     thenot    &      hobbinoll  tell me good hobbi...\n",
       "15     pierce       &         cuddie  cuddie  for sha...\n",
       "16     go and catch a falling star       get with chi...\n",
       "17     orpheus with his lute made trees    and the mo...\n",
       "18     what is your substance  whereof are you made  ...\n",
       "19     why didst thou promise such a beauteous day   ...\n",
       "20     the welcome sun from sea freake is returned   ...\n",
       "21     i met a courtier riding on the plain   well-mo...\n",
       "22     walking the fields a wantcatcher i spied   to ...\n",
       "23     fishing  if i a fisher may protest   of pleasu...\n",
       "24     come darkest night  becoming sorrow best;     ...\n",
       "25     januarie. gloga prima. argvment.        in thi...\n",
       "26     where the bee sucks  there suck i:  in a cowsl...\n",
       "27     tis true  tis day  what though it be?  o wilt ...\n",
       "28     as i in hoary winters night stood shivering in...\n",
       "29     care for thy soul as thing of greatest price  ...\n",
       "                             ...                        \n",
       "542    too high  too high to pluck  my heart shall sw...\n",
       "543    when the first dark had fallen around them  an...\n",
       "544    my love looks like a girl to-night         but...\n",
       "545    the jester walked in the garden:  the garden h...\n",
       "546    what large  dark hands are those at the window...\n",
       "547    supper comes at five o'clock   at six  the eve...\n",
       "548    go  dumb-born book   tell her that sang me onc...\n",
       "549    they came to tell your faults to me   they nam...\n",
       "550    i never knew the earth had so much gold  the f...\n",
       "551    when she rises in the morning  i linger to wat...\n",
       "552    louis untermeyer  infidelity from the new poet...\n",
       "553    version 1 (1921)  yours is the shame and sorro...\n",
       "554    strephon kissed me in the spring   robin in th...\n",
       "555    let us go then  you and i   when the evening i...\n",
       "556    i went to the dances at chandlerville   and pl...\n",
       "557    seen my lady home las' night   jump back  hone...\n",
       "558    w'en daih's chillun in de house   dey keep on ...\n",
       "559    i saw her in a broadway car   the woman i migh...\n",
       "560                                              i  j...\n",
       "561    i  among the smoke and fog of a december after...\n",
       "562    maurice  weep not  i am not here under this pi...\n",
       "563    i shall not go with pain  whether you hold me ...\n",
       "564    wintah  summah  snow er shine   hit's all de s...\n",
       "565    this youth too long has heard the break  of wa...\n",
       "566    making his advances  he does not look at her  ...\n",
       "567    i thought he was dumb   i said he was dumb   y...\n",
       "568    with the man i love who loves me not   i walke...\n",
       "570    when you are old and grey and full of sleep   ...\n",
       "571    give me hunger   o you gods that sit and give ...\n",
       "572    potuia  potuia  white grave goddess   pity my ...\n",
       "Name: content, Length: 501, dtype: object"
      ]
     },
     "execution_count": 153,
     "metadata": {},
     "output_type": "execute_result"
    }
   ],
   "source": [
    "df.content"
   ]
  },
  {
   "cell_type": "code",
   "execution_count": 154,
   "metadata": {},
   "outputs": [],
   "source": [
    "remove_list=[\"A\",\n",
    "\"An\",\n",
    "\"The\",\n",
    "\"Aboard\",\n",
    "\"About\",\n",
    "\"Above\",\n",
    "\"Absent\",\n",
    "\"Across\",\n",
    "\"After\",\n",
    "\"Against\",\n",
    "\"Along\",\n",
    "\"Alongside\",\n",
    "\"Amid\",\n",
    "\"Among\",\n",
    "\"Amongst\",\n",
    "\"Anti\",\n",
    "\"Around\",\n",
    "\"As\",\n",
    "\"At\",\n",
    "\"Before\",\n",
    "\"Behind\",\n",
    "\"Below\",\n",
    "\"Beneath\",\n",
    "\"Beside\",\n",
    "\"Besides\",\n",
    "\"Between\",\n",
    "\"Beyond\",\n",
    "\"But\",\n",
    "\"By\",\n",
    "\"Circa\",\n",
    "\"Concerning\",\n",
    "\"Considering\",\n",
    "\"Despite\",\n",
    "\"Down\",\n",
    "\"During\",\n",
    "\"Except\",\n",
    "\"Excepting\",\n",
    "\"Excluding\",\n",
    "\"Failing\",\n",
    "\"Following\",\n",
    "\"For\",\n",
    "\"From\",\n",
    "\"Given\",\n",
    "\"In\",\n",
    "\"Inside\",\n",
    "\"Into\",\n",
    "\"Like\",\n",
    "\"Minus\",\n",
    "\"Near\",\n",
    "\"Of\",\n",
    "\"Off\",\n",
    "\"On\",\n",
    "\"Onto\",\n",
    "\"Opposite\",\n",
    "\"Outside\",\n",
    "\"Over\",\n",
    "\"Past\",\n",
    "\"Per\",\n",
    "\"Plus\",\n",
    "\"Regarding\",\n",
    "\"Round\",\n",
    "\"Save\",\n",
    "\"Since\",\n",
    "\"Than\",\n",
    "\"Through\",\n",
    "\"To\",\n",
    "\"Toward\",\n",
    "\"Towards\",\n",
    "\"Under\",\n",
    "\"Underneath\",\n",
    "\"Unlike\",\n",
    "\"Until\",\n",
    "\"Up\",\n",
    "\"Upon\",\n",
    "\"Versus\",\n",
    "\"Via\",\n",
    "\"With\",\n",
    "\"Within\",\n",
    "\"Without\"]                "
   ]
  },
  {
   "cell_type": "code",
   "execution_count": 155,
   "metadata": {},
   "outputs": [],
   "source": [
    "for  value in remove_list:\n",
    "    df.content=df.content.str.replace(value,\" \")\n",
    "    "
   ]
  },
  {
   "cell_type": "code",
   "execution_count": 156,
   "metadata": {},
   "outputs": [
    {
     "data": {
      "text/plain": [
       "0      let the bird of loudest lay  on the sole arabi...\n",
       "1      sir charles into my chamber coming in   when i...\n",
       "2      our vice runs beyond all that old men saw   an...\n",
       "3      lo i the man  whose muse whilome did maske   a...\n",
       "4      long have i longd to see my love againe   stil...\n",
       "5      cherry-lipt adonis in his snowie shape       m...\n",
       "6      praisd be dianas fair and harmless light;  pra...\n",
       "7      when i was fair and young  then favor graced m...\n",
       "8      when by thy scorn  o murd'ress  i am dead     ...\n",
       "9      pla ce bo   who is there  who?  di le xi   dam...\n",
       "10     ye learned sisters which have oftentimes  been...\n",
       "11     on hellespont  guilty of true love's blood   i...\n",
       "12     by that he ended had his ghostly sermon   the ...\n",
       "13     calm was the day  and through the trembling ai...\n",
       "14     thenot    &      hobbinoll  tell me good hobbi...\n",
       "15     pierce       &         cuddie  cuddie  for sha...\n",
       "16     go and catch a falling star       get with chi...\n",
       "17     orpheus with his lute made trees    and the mo...\n",
       "18     what is your substance  whereof are you made  ...\n",
       "19     why didst thou promise such a beauteous day   ...\n",
       "20     the welcome sun from sea freake is returned   ...\n",
       "21     i met a courtier riding on the plain   well-mo...\n",
       "22     walking the fields a wantcatcher i spied   to ...\n",
       "23     fishing  if i a fisher may protest   of pleasu...\n",
       "24     come darkest night  becoming sorrow best;     ...\n",
       "25     januarie. gloga prima. argvment.        in thi...\n",
       "26     where the bee sucks  there suck i:  in a cowsl...\n",
       "27     tis true  tis day  what though it be?  o wilt ...\n",
       "28     as i in hoary winters night stood shivering in...\n",
       "29     care for thy soul as thing of greatest price  ...\n",
       "                             ...                        \n",
       "542    too high  too high to pluck  my heart shall sw...\n",
       "543    when the first dark had fallen around them  an...\n",
       "544    my love looks like a girl to-night         but...\n",
       "545    the jester walked in the garden:  the garden h...\n",
       "546    what large  dark hands are those at the window...\n",
       "547    supper comes at five o'clock   at six  the eve...\n",
       "548    go  dumb-born book   tell her that sang me onc...\n",
       "549    they came to tell your faults to me   they nam...\n",
       "550    i never knew the earth had so much gold  the f...\n",
       "551    when she rises in the morning  i linger to wat...\n",
       "552    louis untermeyer  infidelity from the new poet...\n",
       "553    version 1 (1921)  yours is the shame and sorro...\n",
       "554    strephon kissed me in the spring   robin in th...\n",
       "555    let us go then  you and i   when the evening i...\n",
       "556    i went to the dances at chandlerville   and pl...\n",
       "557    seen my lady home las' night   jump back  hone...\n",
       "558    w'en daih's chillun in de house   dey keep on ...\n",
       "559    i saw her in a broadway car   the woman i migh...\n",
       "560                                              i  j...\n",
       "561    i  among the smoke and fog of a december after...\n",
       "562    maurice  weep not  i am not here under this pi...\n",
       "563    i shall not go with pain  whether you hold me ...\n",
       "564    wintah  summah  snow er shine   hit's all de s...\n",
       "565    this youth too long has heard the break  of wa...\n",
       "566    making his advances  he does not look at her  ...\n",
       "567    i thought he was dumb   i said he was dumb   y...\n",
       "568    with the man i love who loves me not   i walke...\n",
       "570    when you are old and grey and full of sleep   ...\n",
       "571    give me hunger   o you gods that sit and give ...\n",
       "572    potuia  potuia  white grave goddess   pity my ...\n",
       "Name: content, Length: 501, dtype: object"
      ]
     },
     "execution_count": 156,
     "metadata": {},
     "output_type": "execute_result"
    }
   ],
   "source": [
    "df.content"
   ]
  },
  {
   "cell_type": "code",
   "execution_count": 157,
   "metadata": {},
   "outputs": [],
   "source": [
    "# regular expression, using stemming: try to replace tail of words like ies to y \n",
    "import re"
   ]
  },
  {
   "cell_type": "code",
   "execution_count": 158,
   "metadata": {},
   "outputs": [],
   "source": [
    "df.content = df.content.str.replace(\"ing( |$)\", \" \")\n",
    "df.content = df.content.str.replace(\"[^a-zA-Z]\", \" \")\n",
    "df.content = df.content.str.replace(\"ies( |$)\", \"y \")"
   ]
  },
  {
   "cell_type": "code",
   "execution_count": 159,
   "metadata": {},
   "outputs": [
    {
     "data": {
      "text/plain": [
       "'let the bird of loudest lay  on the sole arabian tree  herald sad and trumpet be   to whose sound chaste wings obey     but thou shriek harbinger   foul precurrer of the fiend   augur of the fever s end   to this troop come thou not near     from this session interdict  every fowl of tyrant w   save the eagle  feather d king   keep the obsequy so strict     let the priest in surplice white   that defunctive music can   be the death divin swan   lest the requiem lack his right     and thou treble dated crow   that thy sable gender mak st  with the breath thou giv st and tak st    mongst our mourners shalt thou go     here the anthem doth commence   love and constancy is dead   phoenix and the turtle fled  in a mutual flame from hence     so they lov d  as love in twain  had the essence but in one   two distincts  division none   number there in love was slain     hearts remote  yet not asunder   distance and no space was seen   twixt this turtle and his queen   but in them it were a wonder     so between them love did shine  that the turtle saw his right  flam in the phoenix  sight   either was the other s mine     property was thus appalled  that the self was not the same   single nature s double name  neither two nor one was called     reason  in itself confounded   saw division grow together   to themselves yet either neither   simple were so well compounded     that it cried   how true a twain  seemeth this concordant one   love has reason  reason none   if what parts can so remain      whereupon it made this threne  to the phoenix and the dove   co supremes and stars of love   as chorus to their tragic scene                      threnos    beauty  truth  and rarity   grace in all simplicity   here enclos d  in cinders lie     death is now the phoenix  nest   and the turtle s loyal breast  to eternity doth rest     leav no posterity    twas not their infirmity   it was married chastity     truth may seem but cannot be   beauty brag but  tis not she   truth and beauty buried be     to this urn let those repair  that are either true or fair   for these dead birds sigh a prayer '"
      ]
     },
     "execution_count": 159,
     "metadata": {},
     "output_type": "execute_result"
    }
   ],
   "source": [
    "df.content[0]"
   ]
  },
  {
   "cell_type": "markdown",
   "metadata": {},
   "source": [
    "# TFIDF vectorizer"
   ]
  },
  {
   "cell_type": "code",
   "execution_count": 160,
   "metadata": {},
   "outputs": [],
   "source": [
    "from sklearn.feature_extraction.text import TfidfVectorizer"
   ]
  },
  {
   "cell_type": "code",
   "execution_count": 161,
   "metadata": {},
   "outputs": [],
   "source": [
    "vectorizer = TfidfVectorizer(ngram_range=(1, 1), sublinear_tf=True, analyzer= 'word')"
   ]
  },
  {
   "cell_type": "code",
   "execution_count": 162,
   "metadata": {},
   "outputs": [],
   "source": [
    "tfid=vectorizer.fit_transform(df.content)"
   ]
  },
  {
   "cell_type": "code",
   "execution_count": 163,
   "metadata": {},
   "outputs": [
    {
     "data": {
      "text/plain": [
       "(501, 10959)"
      ]
     },
     "execution_count": 163,
     "metadata": {},
     "output_type": "execute_result"
    }
   ],
   "source": [
    "#print(vectorizer.get_feature_names())\n",
    "tfid.shape"
   ]
  },
  {
   "cell_type": "code",
   "execution_count": 164,
   "metadata": {},
   "outputs": [],
   "source": [
    "from sklearn.model_selection import train_test_split"
   ]
  },
  {
   "cell_type": "markdown",
   "metadata": {},
   "source": [
    "# Split the data: 80 % for training data and 20 % for testing data"
   ]
  },
  {
   "cell_type": "code",
   "execution_count": 165,
   "metadata": {},
   "outputs": [],
   "source": [
    "X=df.drop(['age','type'],axis=1)\n",
    "y=df['type']"
   ]
  },
  {
   "cell_type": "code",
   "execution_count": 166,
   "metadata": {},
   "outputs": [
    {
     "data": {
      "text/plain": [
       "array([1, 1, 1, 1, 1, 1, 1, 1, 1, 1, 1, 1, 1, 1, 1, 1, 1, 1, 1, 2, 2, 2,\n",
       "       2, 2, 2, 2, 2, 2, 2, 2, 2, 2, 2, 2, 2, 2, 2, 2, 2, 2, 2, 2, 2, 2,\n",
       "       2, 2, 2, 2, 2, 2, 2, 2, 2, 2, 2, 2, 2, 2, 2, 2, 2, 2, 2, 2, 2, 2,\n",
       "       2, 2, 2, 2, 2, 2, 0, 0, 0, 0, 0, 0, 0, 0, 0, 0, 0, 0, 0, 0, 0, 0,\n",
       "       0, 0, 0, 0, 0, 0, 0, 0, 0, 0, 0, 0, 0, 0, 0, 0, 0, 0, 0, 0, 0, 0,\n",
       "       0, 0, 0, 0, 0, 0, 0, 0, 0, 0, 0, 0, 0, 0, 0, 0, 0, 0, 0, 0, 0, 0,\n",
       "       0, 0, 0, 0, 0, 0, 0, 0, 0, 0, 0, 0, 0, 0, 0, 0, 0, 0, 0, 0, 0, 0,\n",
       "       0, 0, 0, 0, 0, 0, 0, 0, 0, 0, 0, 0, 0, 0, 0, 0, 0, 0, 0, 0, 0, 0,\n",
       "       0, 0, 0, 0, 0, 0, 0, 0, 0, 0, 0, 0, 0, 0, 0, 0, 0, 0, 0, 0, 0, 0,\n",
       "       0, 0, 0, 0, 0, 0, 0, 0, 0, 0, 0, 0, 0, 0, 0, 0, 0, 0, 0, 0, 0, 0,\n",
       "       0, 0, 0, 0, 0, 0, 0, 0, 0, 0, 0, 0, 0, 0, 0, 0, 0, 0, 0, 0, 0, 0,\n",
       "       0, 0, 0, 0, 0, 0, 0, 0, 0, 0, 0, 0, 0, 0, 0, 0, 0, 0, 0, 0, 0, 0,\n",
       "       0, 0, 0, 0, 0, 0, 0, 0, 0, 0, 0, 0, 0, 0, 0, 0, 0, 0, 0, 0, 0, 0,\n",
       "       0, 0, 0, 0, 0, 0, 0, 0, 0, 0, 0, 0, 0, 0, 0, 0, 0, 0, 0, 0, 0, 0,\n",
       "       0, 0, 0, 0, 0, 0, 0, 1, 1, 1, 1, 1, 1, 1, 1, 1, 1, 1, 1, 1, 1, 1,\n",
       "       1, 1, 1, 1, 1, 1, 1, 1, 1, 1, 1, 1, 1, 2, 2, 2, 2, 2, 2, 2, 2, 2,\n",
       "       2, 2, 2, 2, 2, 2, 2, 2, 2, 2, 2, 2, 2, 2, 2, 2, 2, 2, 2, 2, 2, 2,\n",
       "       2, 2, 2, 2, 2, 2, 2, 2, 2, 2, 2, 2, 2, 2, 2, 2, 2, 2, 2, 2, 2, 2,\n",
       "       2, 2, 2, 2, 2, 2, 2, 2, 2, 2, 2, 2, 2, 2, 2, 2, 2, 2, 2, 2, 2, 2,\n",
       "       2, 2, 2, 2, 2, 2, 2, 2, 2, 2, 2, 2, 2, 2, 2, 2, 0, 0, 0, 0, 0, 0,\n",
       "       0, 0, 0, 0, 0, 0, 0, 0, 0, 0, 0, 0, 0, 0, 0, 0, 0, 0, 0, 0, 0, 0,\n",
       "       0, 0, 0, 0, 0, 0, 0, 0, 0, 0, 0, 0, 0, 0, 0, 0, 0, 0, 0, 0, 0, 0,\n",
       "       0, 0, 0, 0, 0, 0, 0, 0, 0, 0, 0, 0, 0, 0, 0, 0, 0])"
      ]
     },
     "execution_count": 166,
     "metadata": {},
     "output_type": "execute_result"
    }
   ],
   "source": [
    "from sklearn.preprocessing import LabelEncoder,OneHotEncoder\n",
    "le=LabelEncoder()\n",
    "X.iloc[:,0]=le.fit_transform(X.iloc[:,0])\n",
    "X.iloc[:,2]=le.fit_transform(X.iloc[:,2])\n",
    "y=le.fit_transform(y)\n",
    "y"
   ]
  },
  {
   "cell_type": "code",
   "execution_count": 167,
   "metadata": {},
   "outputs": [],
   "source": [
    "X_train, X_test, y_train, y_test = train_test_split(X,y,test_size=0.2,random_state=1)"
   ]
  },
  {
   "cell_type": "code",
   "execution_count": 168,
   "metadata": {},
   "outputs": [
    {
     "data": {
      "text/html": [
       "<div>\n",
       "<style scoped>\n",
       "    .dataframe tbody tr th:only-of-type {\n",
       "        vertical-align: middle;\n",
       "    }\n",
       "\n",
       "    .dataframe tbody tr th {\n",
       "        vertical-align: top;\n",
       "    }\n",
       "\n",
       "    .dataframe thead th {\n",
       "        text-align: right;\n",
       "    }\n",
       "</style>\n",
       "<table border=\"1\" class=\"dataframe\">\n",
       "  <thead>\n",
       "    <tr style=\"text-align: right;\">\n",
       "      <th></th>\n",
       "      <th>author</th>\n",
       "      <th>content</th>\n",
       "      <th>poem_name</th>\n",
       "    </tr>\n",
       "  </thead>\n",
       "  <tbody>\n",
       "    <tr>\n",
       "      <th>498</th>\n",
       "      <td>56</td>\n",
       "      <td>some may have blamed you that you took away  t...</td>\n",
       "      <td>223</td>\n",
       "    </tr>\n",
       "    <tr>\n",
       "      <th>547</th>\n",
       "      <td>43</td>\n",
       "      <td>supper comes at five o clock   at six  the eve...</td>\n",
       "      <td>122</td>\n",
       "    </tr>\n",
       "    <tr>\n",
       "      <th>58</th>\n",
       "      <td>25</td>\n",
       "      <td>forget this rotten world  and unto thee  let t...</td>\n",
       "      <td>208</td>\n",
       "    </tr>\n",
       "    <tr>\n",
       "      <th>470</th>\n",
       "      <td>36</td>\n",
       "      <td>out in the sky the great dark clouds are massi...</td>\n",
       "      <td>235</td>\n",
       "    </tr>\n",
       "    <tr>\n",
       "      <th>78</th>\n",
       "      <td>58</td>\n",
       "      <td>love is my sin  and thy dear virtue hate   hat...</td>\n",
       "      <td>279</td>\n",
       "    </tr>\n",
       "  </tbody>\n",
       "</table>\n",
       "</div>"
      ],
      "text/plain": [
       "     author                                            content  poem_name\n",
       "498      56  some may have blamed you that you took away  t...        223\n",
       "547      43  supper comes at five o clock   at six  the eve...        122\n",
       "58       25  forget this rotten world  and unto thee  let t...        208\n",
       "470      36  out in the sky the great dark clouds are massi...        235\n",
       "78       58  love is my sin  and thy dear virtue hate   hat...        279"
      ]
     },
     "execution_count": 168,
     "metadata": {},
     "output_type": "execute_result"
    }
   ],
   "source": [
    "X_train.head()"
   ]
  },
  {
   "cell_type": "markdown",
   "metadata": {},
   "source": [
    "# vectorize  X_train and X_test using TFIDF"
   ]
  },
  {
   "cell_type": "code",
   "execution_count": 169,
   "metadata": {},
   "outputs": [],
   "source": [
    "vec_train=vectorizer.fit_transform(X_train.content)\n",
    "feature_names =vectorizer.get_feature_names()\n",
    "feature_names\n",
    "vec_test=vectorizer.transform(X_test.content)"
   ]
  },
  {
   "cell_type": "code",
   "execution_count": 170,
   "metadata": {},
   "outputs": [],
   "source": [
    "import xgboost as xgb"
   ]
  },
  {
   "cell_type": "code",
   "execution_count": 171,
   "metadata": {},
   "outputs": [],
   "source": [
    "X_train=vec_train\n",
    "X_test=vec_test"
   ]
  },
  {
   "cell_type": "code",
   "execution_count": 172,
   "metadata": {},
   "outputs": [
    {
     "data": {
      "text/plain": [
       "XGBClassifier(base_score=0.5, booster='gbtree', colsample_bylevel=1,\n",
       "       colsample_bytree=1, gamma=0, learning_rate=0.1, max_delta_step=0,\n",
       "       max_depth=3, min_child_weight=1, missing=None, n_estimators=100,\n",
       "       n_jobs=1, nthread=None, objective='multi:softprob', random_state=0,\n",
       "       reg_alpha=0, reg_lambda=1, scale_pos_weight=1, seed=None,\n",
       "       silent=True, subsample=1)"
      ]
     },
     "execution_count": 172,
     "metadata": {},
     "output_type": "execute_result"
    }
   ],
   "source": [
    "# xgboost to the training set\n",
    "classifier=xgb.XGBClassifier()\n",
    "classifier.fit(X_train,y_train)"
   ]
  },
  {
   "cell_type": "code",
   "execution_count": 173,
   "metadata": {},
   "outputs": [],
   "source": [
    "y_pred=classifier.predict(X_test)"
   ]
  },
  {
   "cell_type": "code",
   "execution_count": 174,
   "metadata": {},
   "outputs": [
    {
     "data": {
      "image/png": "[encoded data removed]",
      "text/plain": [
       "<Figure size 432x288 with 1 Axes>"
      ]
     },
     "metadata": {
      "needs_background": "light"
     },
     "output_type": "display_data"
    }
   ],
   "source": [
    "sns.countplot(x=y_pred)\n",
    "plt.show()"
   ]
  },
  {
   "cell_type": "code",
   "execution_count": 175,
   "metadata": {},
   "outputs": [
    {
     "data": {
      "image/png": "[encoded data removed]",
      "text/plain": [
       "<Figure size 432x288 with 1 Axes>"
      ]
     },
     "metadata": {
      "needs_background": "light"
     },
     "output_type": "display_data"
    }
   ],
   "source": [
    "sns.countplot(x=y_test)\n",
    "plt.show()"
   ]
  },
  {
   "cell_type": "code",
   "execution_count": 176,
   "metadata": {},
   "outputs": [
    {
     "data": {
      "image/png": "[encoded data removed]",
      "text/plain": [
       "<Figure size 432x288 with 2 Axes>"
      ]
     },
     "metadata": {
      "needs_background": "light"
     },
     "output_type": "display_data"
    }
   ],
   "source": [
    "from sklearn.metrics import confusion_matrix\n",
    "cm=confusion_matrix(y_test,y_pred)\n",
    "\n",
    "#plotting confusion matrix\n",
    "sns.heatmap(cm, annot=True, fmt=\"d\")\n",
    "plt.show()"
   ]
  },
  {
   "cell_type": "code",
   "execution_count": 177,
   "metadata": {},
   "outputs": [
    {
     "data": {
      "text/plain": [
       "63.366336633663366"
      ]
     },
     "execution_count": 177,
     "metadata": {},
     "output_type": "execute_result"
    }
   ],
   "source": [
    "from sklearn.metrics import accuracy_score\n",
    "accuracy_score(y_test,y_pred)*100"
   ]
  },
  {
   "cell_type": "code",
   "execution_count": null,
   "metadata": {},
   "outputs": [],
   "source": []
  },
  {
   "cell_type": "markdown",
   "metadata": {},
   "source": [
    "# logistic reg."
   ]
  },
  {
   "cell_type": "code",
   "execution_count": 178,
   "metadata": {},
   "outputs": [],
   "source": [
    "from sklearn.linear_model import LogisticRegression"
   ]
  },
  {
   "cell_type": "code",
   "execution_count": 179,
   "metadata": {},
   "outputs": [
    {
     "data": {
      "text/plain": [
       "LogisticRegression(C=1.0, class_weight=None, dual=False, fit_intercept=True,\n",
       "          intercept_scaling=1, max_iter=100, multi_class='warn',\n",
       "          n_jobs=None, penalty='l2', random_state=None, solver='liblinear',\n",
       "          tol=0.0001, verbose=0, warm_start=False)"
      ]
     },
     "execution_count": 179,
     "metadata": {},
     "output_type": "execute_result"
    }
   ],
   "source": [
    "logmodel=LogisticRegression(solver='liblinear')\n",
    "logmodel.fit(X_train,y_train)"
   ]
  },
  {
   "cell_type": "code",
   "execution_count": 180,
   "metadata": {},
   "outputs": [],
   "source": [
    "y_pred2=logmodel.predict(X_test)"
   ]
  },
  {
   "cell_type": "code",
   "execution_count": 181,
   "metadata": {},
   "outputs": [
    {
     "data": {
      "image/png": "[encoded data removed]",
      "text/plain": [
       "<Figure size 432x288 with 2 Axes>"
      ]
     },
     "metadata": {
      "needs_background": "light"
     },
     "output_type": "display_data"
    }
   ],
   "source": [
    "cm=confusion_matrix(y_test,y_pred2)\n",
    "\n",
    "#plotting confusion matrix\n",
    "sns.heatmap(cm, annot=True, fmt=\"d\")\n",
    "plt.show()"
   ]
  },
  {
   "cell_type": "code",
   "execution_count": 182,
   "metadata": {},
   "outputs": [
    {
     "data": {
      "text/plain": [
       "60.396039603960396"
      ]
     },
     "execution_count": 182,
     "metadata": {},
     "output_type": "execute_result"
    }
   ],
   "source": [
    "accuracy_score(y_test,y_pred2)*100"
   ]
  },
  {
   "cell_type": "code",
   "execution_count": 183,
   "metadata": {},
   "outputs": [],
   "source": [
    "# from sklearn.metrics import log_loss\n",
    "# # 0.Love\n",
    "# # 1.Mythology & Folklore\n",
    "# # 2.Nature\n",
    "# log_loss(y_test,y_pred2,labels=[1,2,3])"
   ]
  },
  {
   "cell_type": "markdown",
   "metadata": {},
   "source": [
    "# naive bayes"
   ]
  },
  {
   "cell_type": "code",
   "execution_count": 193,
   "metadata": {},
   "outputs": [],
   "source": [
    "from sklearn.naive_bayes import GaussianNB"
   ]
  },
  {
   "cell_type": "code",
   "execution_count": 194,
   "metadata": {},
   "outputs": [],
   "source": [
    "NBmodel=GaussianNB()\n",
    "\n",
    "\n",
    "\n",
    "# making dense matrix\n",
    "import scipy.sparse as sp\n",
    "if(sp.issparse(X_train)==True):\n",
    "    X_train_dense = X_train.todense()\n",
    "    X_test_dense= X_test.todense()"
   ]
  },
  {
   "cell_type": "code",
   "execution_count": 197,
   "metadata": {},
   "outputs": [
    {
     "data": {
      "text/plain": [
       "GaussianNB(priors=None, var_smoothing=1e-09)"
      ]
     },
     "execution_count": 197,
     "metadata": {},
     "output_type": "execute_result"
    }
   ],
   "source": [
    "NBmodel.fit(X_train_dense,y_train)"
   ]
  },
  {
   "cell_type": "code",
   "execution_count": 200,
   "metadata": {},
   "outputs": [],
   "source": [
    "y_pred3=NBmodel.predict(X_test_dense)"
   ]
  },
  {
   "cell_type": "code",
   "execution_count": 201,
   "metadata": {},
   "outputs": [
    {
     "data": {
      "image/png": "[encoded data removed]",
      "text/plain": [
       "<Figure size 432x288 with 2 Axes>"
      ]
     },
     "metadata": {
      "needs_background": "light"
     },
     "output_type": "display_data"
    }
   ],
   "source": [
    "cm=confusion_matrix(y_test,y_pred3)\n",
    "\n",
    "#plotting confusion matrix\n",
    "sns.heatmap(cm, annot=True, fmt=\"d\")\n",
    "plt.show()"
   ]
  },
  {
   "cell_type": "code",
   "execution_count": 202,
   "metadata": {},
   "outputs": [
    {
     "data": {
      "text/plain": [
       "53.46534653465347"
      ]
     },
     "execution_count": 202,
     "metadata": {},
     "output_type": "execute_result"
    }
   ],
   "source": [
    "accuracy_score(y_test,y_pred3)*100"
   ]
  },
  {
   "cell_type": "code",
   "execution_count": 203,
   "metadata": {},
   "outputs": [
    {
     "data": {
      "image/png": "[encoded data removed]",
      "text/plain": [
       "<Figure size 432x288 with 1 Axes>"
      ]
     },
     "metadata": {
      "needs_background": "light"
     },
     "output_type": "display_data"
    }
   ],
   "source": [
    "sns.countplot(x=y_pred3)\n",
    "plt.show()"
   ]
  },
  {
   "cell_type": "markdown",
   "metadata": {},
   "source": [
    "# SVM"
   ]
  },
  {
   "cell_type": "code",
   "execution_count": 204,
   "metadata": {},
   "outputs": [],
   "source": [
    "from sklearn.svm import LinearSVC"
   ]
  },
  {
   "cell_type": "code",
   "execution_count": 205,
   "metadata": {},
   "outputs": [],
   "source": [
    "model=LinearSVC()"
   ]
  },
  {
   "cell_type": "code",
   "execution_count": 206,
   "metadata": {},
   "outputs": [
    {
     "data": {
      "text/plain": [
       "LinearSVC(C=1.0, class_weight=None, dual=True, fit_intercept=True,\n",
       "     intercept_scaling=1, loss='squared_hinge', max_iter=1000,\n",
       "     multi_class='ovr', penalty='l2', random_state=None, tol=0.0001,\n",
       "     verbose=0)"
      ]
     },
     "execution_count": 206,
     "metadata": {},
     "output_type": "execute_result"
    }
   ],
   "source": [
    "model.fit(X_train,y_train)"
   ]
  },
  {
   "cell_type": "code",
   "execution_count": 207,
   "metadata": {},
   "outputs": [],
   "source": [
    "y_pred4=model.predict(X_test)"
   ]
  },
  {
   "cell_type": "code",
   "execution_count": 208,
   "metadata": {},
   "outputs": [
    {
     "data": {
      "image/png": "[encoded data removed]",
      "text/plain": [
       "<Figure size 432x288 with 2 Axes>"
      ]
     },
     "metadata": {
      "needs_background": "light"
     },
     "output_type": "display_data"
    }
   ],
   "source": [
    "cm=confusion_matrix(y_test,y_pred4)\n",
    "\n",
    "#plotting confusion matrix\n",
    "sns.heatmap(cm, annot=True, fmt=\"d\")\n",
    "plt.show()"
   ]
  },
  {
   "cell_type": "code",
   "execution_count": 209,
   "metadata": {},
   "outputs": [
    {
     "data": {
      "text/plain": [
       "63.366336633663366"
      ]
     },
     "execution_count": 209,
     "metadata": {},
     "output_type": "execute_result"
    }
   ],
   "source": [
    "accuracy_score(y_test,y_pred4)*100"
   ]
  },
  {
   "cell_type": "code",
   "execution_count": 210,
   "metadata": {},
   "outputs": [
    {
     "data": {
      "text/plain": [
       "0.44911426935422444"
      ]
     },
     "execution_count": 210,
     "metadata": {},
     "output_type": "execute_result"
    }
   ],
   "source": [
    "y_score = model.decision_function(X_test)\n",
    "from sklearn.metrics import average_precision_score\n",
    "y_test_svm=pd.get_dummies(y_test)\n",
    "average_precision_score(y_test_svm,y_score)"
   ]
  },
  {
   "cell_type": "markdown",
   "metadata": {},
   "source": [
    "# Random Forest"
   ]
  },
  {
   "cell_type": "code",
   "execution_count": 211,
   "metadata": {},
   "outputs": [],
   "source": [
    "from sklearn.ensemble import RandomForestClassifier"
   ]
  },
  {
   "cell_type": "code",
   "execution_count": 212,
   "metadata": {},
   "outputs": [],
   "source": [
    "rfmodel = RandomForestClassifier(n_estimators = 100, random_state = 42)"
   ]
  },
  {
   "cell_type": "code",
   "execution_count": 213,
   "metadata": {},
   "outputs": [
    {
     "data": {
      "text/plain": [
       "RandomForestClassifier(bootstrap=True, class_weight=None, criterion='gini',\n",
       "            max_depth=None, max_features='auto', max_leaf_nodes=None,\n",
       "            min_impurity_decrease=0.0, min_impurity_split=None,\n",
       "            min_samples_leaf=1, min_samples_split=2,\n",
       "            min_weight_fraction_leaf=0.0, n_estimators=100, n_jobs=None,\n",
       "            oob_score=False, random_state=42, verbose=0, warm_start=False)"
      ]
     },
     "execution_count": 213,
     "metadata": {},
     "output_type": "execute_result"
    }
   ],
   "source": [
    "rfmodel.fit(X_train,y_train)"
   ]
  },
  {
   "cell_type": "code",
   "execution_count": 214,
   "metadata": {},
   "outputs": [],
   "source": [
    "y_pred5=rfmodel.predict(X_test)"
   ]
  },
  {
   "cell_type": "code",
   "execution_count": 215,
   "metadata": {},
   "outputs": [
    {
     "data": {
      "image/png": "[encoded data removed]",
      "text/plain": [
       "<Figure size 432x288 with 2 Axes>"
      ]
     },
     "metadata": {
      "needs_background": "light"
     },
     "output_type": "display_data"
    }
   ],
   "source": [
    "cm=confusion_matrix(y_test,y_pred5)\n",
    "\n",
    "#plotting confusion matrix\n",
    "sns.heatmap(cm, annot=True, fmt=\"d\")\n",
    "plt.show()"
   ]
  },
  {
   "cell_type": "code",
   "execution_count": 216,
   "metadata": {},
   "outputs": [
    {
     "data": {
      "text/plain": [
       "56.43564356435643"
      ]
     },
     "execution_count": 216,
     "metadata": {},
     "output_type": "execute_result"
    }
   ],
   "source": [
    "accuracy_score(y_test,y_pred5)*100"
   ]
  },
  {
   "cell_type": "code",
   "execution_count": null,
   "metadata": {},
   "outputs": [],
   "source": []
  }
 ],
 "metadata": {
  "kernelspec": {
   "display_name": "Python 3",
   "language": "python",
   "name": "python3"
  },
  "language_info": {
   "codemirror_mode": {
    "name": "ipython",
    "version": 3
   },
   "file_extension": ".py",
   "mimetype": "text/x-python",
   "name": "python",
   "nbconvert_exporter": "python",
   "pygments_lexer": "ipython3",
   "version": "3.7.3"
  }
 },
 "nbformat": 4,
 "nbformat_minor": 2
}
